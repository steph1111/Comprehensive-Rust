{
 "cells": [
  {
   "cell_type": "markdown",
   "metadata": {},
   "source": [
    "## About Rust\n",
    "Rust is modern programming language developed in 2010. It is often compared to C or C++ but does not have the dangers of memory misuse. Rust is designed for speed, efficient and safe memory management, and the ability to run multiple programs in parallel.\n",
    "\n",
    "Rust documentation may be found on the official [website](https://doc.rust-lang.org/std/index.html) or by running the following command in a terminal:\n",
    "```sh\n",
    "rustup doc\n",
    "```\n",
    "<br>"
   ]
  },
  {
   "cell_type": "markdown",
   "metadata": {},
   "source": [
    "---\n",
    "## Getting Started\n",
    "<br>\n",
    "\n",
    "### Installing Rust\n",
    "1. Run the following command in a terminal.\n",
    "   ```sh\n",
    "   curl --proto '=https' --tlsv1.2 -sSf https://sh.rustup.rs | sh\n",
    "   ```\n",
    "2. Restart the terminal environment.\n",
    "3. Ensure rust installed by entering the following command.\n",
    "   ```sh\n",
    "   rustc --version\n",
    "   ```\n",
    "4. Additional installation information may be found [here](https://doc.rust-lang.org/book/ch01-01-installation.html).\n",
    "\n",
    "<br>\n",
    "\n",
    "### Creating a program\n",
    "1. Use `touch` to create a file that ends in the file extension `.rs`\n",
    "   ```sh\n",
    "   touch hello_world.rs\n",
    "   ```\n",
    "2. Compile the code with `rustc`\n",
    "   ```sh\n",
    "   rustc hello_world.rs\n",
    "   ```\n",
    "3. Run the executable (it will have the same name as the .rs file)\n",
    "   ```sh\n",
    "   ./hello_world\n",
    "   ```\n",
    "<br>"
   ]
  },
  {
   "cell_type": "markdown",
   "metadata": {},
   "source": [
    "## Hello World!\n",
    "[hello_world.rs](https://github.com/steph1111/Comprehensive-Rust/blob/master/hello_world.rs)"
   ]
  },
  {
   "cell_type": "code",
   "execution_count": null,
   "metadata": {},
   "outputs": [],
   "source": [
    "fn main() {\n",
    "    println!(\"Hello 🌍!\");\n",
    "}"
   ]
  },
  {
   "cell_type": "markdown",
   "metadata": {},
   "source": [
    "- Functions start with `fn`\n",
    "- Blocks have curly braces `{}`\n",
    "- Lines end in `;`\n",
    "- Like C++, rust programs have a `main()` function\n",
    "\n",
    "<br>"
   ]
  },
  {
   "cell_type": "markdown",
   "metadata": {},
   "source": [
    "---\n",
    "## Basic Syntax\n",
    "<br>\n",
    "\n",
    "### Scalar Types\n",
    "|     |Types|Literals|\n",
    "| :-- | :-- | :-- |\n",
    "| Signed integers | `i8`, `i16`, `i32`, `i64`, `i128`, `isize` | `-10`, `0`, `1_000`, `123i64` |\n",
    "| Unsigned integers | `u8`, `u16`, `u32`, `u64`, `u128`, `usize` | `0`, `123`, `10u16`| \n",
    "| Floating point | `f32`, `f64` | `3.14`, `-10.0e20`, `2f32` | \n",
    "| Strings | `&str` | `\"foo\"`, `\"two\\nlines\"` |\n",
    "| Unicode scalar values | `char` |\t`'a'`, `'α'`, `'∞'`\n",
    "| Boolean | `bool`  | `true`, `false`\n",
    "\n",
    "<br> \n",
    "\n",
    "**Notes:**\n",
    "\n",
    "- iN, uN, and fN are N bits wide,\n",
    "- isize and usize are the width of a pointer\n",
    "\n",
    "<br>\n",
    "\n",
    "**Embedded double quotes:** `#` on each side or `\\\"`"
   ]
  },
  {
   "cell_type": "code",
   "execution_count": null,
   "metadata": {},
   "outputs": [],
   "source": [
    "println!(r#\"<a href=\"link.html\">link</a>\"#);\n",
    "// <a href=\"link.html\">link</a>"
   ]
  },
  {
   "cell_type": "markdown",
   "metadata": {},
   "source": [
    "**Byte strings:** `&[u8]` value directly"
   ]
  },
  {
   "cell_type": "code",
   "execution_count": null,
   "metadata": {},
   "outputs": [],
   "source": [
    "println!(\"{:?}\", b\"abc\"); // [97, 98, 99]"
   ]
  },
  {
   "cell_type": "markdown",
   "metadata": {},
   "source": [
    "### Compound Types\n",
    "|     |Types|Literals|\n",
    "| :-- | :-- | :-- |\n",
    "| Arrays | `[T; N]` | `[20, 30, 40]`, [`0; 3]` | \n",
    "| Tuples | `()`, `(T,)`, `(T1, T2)`, … | `()`, `('x',)`, `('x', 1.2)`, … | \n",
    "\n",
    "<br>\n",
    "\n",
    "**Arrays**\n",
    "- Arrays have the same type `T` and length `N` which at compile time is constant\n",
    "- The length of an array is part of its type (`[u8; 3]` and `[u8; 4]` are different types)\n",
    "- Index 5 of array `a` can be accessed by `a[5]`\n",
    "- Arrays are printable with formatting specifiers: "
   ]
  },
  {
   "cell_type": "code",
   "execution_count": null,
   "metadata": {},
   "outputs": [],
   "source": [
    "println!(\"a: {:?}\", a);\n",
    "// {:?} gives debug output\n",
    "// {:#?} gives formatted output"
   ]
  },
  {
   "cell_type": "markdown",
   "metadata": {},
   "source": [
    "**Tuples**\n",
    "- Tuples also have a fixed length \n",
    "- Group together elements of *different* types\n",
    "- Index 5 of a tuple `t` can be accessed by `t.5`\n",
    "- An empty tuple, `()`, is a “unit type”, it is like void\n",
    "\n",
    "<br>\n",
    "\n",
    "### References\n",
    "- References exist in rust\n",
    "- A reference must be deferenced before assigning to it "
   ]
  },
  {
   "cell_type": "code",
   "execution_count": null,
   "metadata": {},
   "outputs": [],
   "source": [
    "fn main() {\n",
    " let mut x: i32 = 10;\n",
    " let ref_x: &mut i32 = &mut x;\n",
    " *ref_x = 20;\n",
    " println!(\"x: {x}\"); // Prints 20\n",
    "}"
   ]
  },
  {
   "cell_type": "markdown",
   "metadata": {},
   "source": [
    "<br>\n",
    "\n",
    "### Slices\n",
    "- Slices allow one to take a subset of a collection of data \n",
    "- Slices are created by defining starting and ending indices\n",
    "- If the start index is 0, you may drop the start index. Same with the last index\n"
   ]
  },
  {
   "cell_type": "code",
   "execution_count": null,
   "metadata": {},
   "outputs": [],
   "source": [
    "fn main() {\n",
    " let mut arr: [i32; 6] = [10, 20, 30, 40, 50, 60]; // array of type i32 with 6 elements\n",
    " println!(\"arr: {arr:?}\"); // Prints with debug formatting\n",
    " let slice: &[i32] = &arr[2..4]; // Slices arr from index 2 to 4\n",
    " println!(\"arr slice: {slice:?}\") // Prints slice with debug format\n",
    "}"
   ]
  },
  {
   "cell_type": "code",
   "execution_count": null,
   "metadata": {},
   "outputs": [],
   "source": [
    "fn main() {\n",
    " let mut arr: [i32; 6] = [10, 20, 30, 40, 50, 60]; // array of type i32 with 6 elements\n",
    " println!(\"arr: {arr:?}\"); // Prints with debug formatting\n",
    " let slice: &[i32] = &arr[2..]; // Slices arr from index 2 to end\n",
    " println!(\"arr slice: {slice:?}\") // Prints slice with debug format\n",
    "}"
   ]
  }
 ],
 "metadata": {
  "kernelspec": {
   "display_name": "Python 3.8.9 64-bit",
   "metadata": {
    "interpreter": {
     "hash": "31f2aee4e71d21fbe5cf8b01ff0e069b9275f58929596ceb00d14d90e3e16cd6"
    }
   },
   "name": "python3"
  },
  "language_info": {
   "name": "python",
   "nbconvert_exporter": "python",
   "version": "3.8.9"
  },
  "orig_nbformat": 2
 },
 "nbformat": 4,
 "nbformat_minor": 2
}